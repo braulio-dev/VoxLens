{
 "cells": [
  {
   "cell_type": "markdown",
   "metadata": {},
   "source": [
    "# Hyperparameter Tuning for Whisper Model\n",
    "\n",
    "This notebook is designed to experiment with hyperparameter tuning for the Whisper model. The goal is to optimize the model's performance and accuracy by adjusting various hyperparameters."
   ]
  },
  {
   "cell_type": "code",
   "execution_count": 13,
   "metadata": {
    "collapsed": false
   },
   "outputs": [
    {
     "name": "stderr",
     "output_type": "stream",
     "text": [
      "c:\\Users\\PC\\.conda\\envs\\voxlens_stt\\Lib\\site-packages\\whisper\\__init__.py:150: FutureWarning: You are using `torch.load` with `weights_only=False` (the current default value), which uses the default pickle module implicitly. It is possible to construct malicious pickle data which will execute arbitrary code during unpickling (See https://github.com/pytorch/pytorch/blob/main/SECURITY.md#untrusted-models for more details). In a future release, the default value for `weights_only` will be flipped to `True`. This limits the functions that could be executed during unpickling. Arbitrary objects will no longer be allowed to be loaded via this mode unless they are explicitly allowlisted by the user via `torch.serialization.add_safe_globals`. We recommend you start setting `weights_only=True` for any use case where you don't have full control of the loaded file. Please open an issue on GitHub for any issues related to this experimental feature.\n",
      "  checkpoint = torch.load(fp, map_location=device)\n"
     ]
    },
    {
     "ename": "AttributeError",
     "evalue": "'WhisperModel' object has no attribute 'evaluate'",
     "output_type": "error",
     "traceback": [
      "\u001b[1;31m---------------------------------------------------------------------------\u001b[0m",
      "\u001b[1;31mAttributeError\u001b[0m                            Traceback (most recent call last)",
      "Cell \u001b[1;32mIn[13], line 39\u001b[0m\n\u001b[0;32m     36\u001b[0m             result_model \u001b[38;5;241m=\u001b[39m tune_hyperparameters(model, hyperparameters)\n\u001b[0;32m     38\u001b[0m             \u001b[38;5;66;03m# Extract a numeric performance metric from the model\u001b[39;00m\n\u001b[1;32m---> 39\u001b[0m             performance_metric \u001b[38;5;241m=\u001b[39m extract_performance_metric(result_model)\n\u001b[0;32m     40\u001b[0m             results\u001b[38;5;241m.\u001b[39mappend({\n\u001b[0;32m     41\u001b[0m                 \u001b[38;5;124m'\u001b[39m\u001b[38;5;124mlearning_rate\u001b[39m\u001b[38;5;124m'\u001b[39m: learning_rate,\n\u001b[0;32m     42\u001b[0m                 \u001b[38;5;124m'\u001b[39m\u001b[38;5;124mbatch_size\u001b[39m\u001b[38;5;124m'\u001b[39m: batch_size,\n\u001b[0;32m     43\u001b[0m                 \u001b[38;5;124m'\u001b[39m\u001b[38;5;124mnum_epochs\u001b[39m\u001b[38;5;124m'\u001b[39m: num_epochs,\n\u001b[0;32m     44\u001b[0m                 \u001b[38;5;124m'\u001b[39m\u001b[38;5;124mperformance\u001b[39m\u001b[38;5;124m'\u001b[39m: performance_metric\n\u001b[0;32m     45\u001b[0m             })\n\u001b[0;32m     47\u001b[0m \u001b[38;5;66;03m# Convert results to DataFrame for analysis\u001b[39;00m\n",
      "Cell \u001b[1;32mIn[13], line 10\u001b[0m, in \u001b[0;36mextract_performance_metric\u001b[1;34m(model)\u001b[0m\n\u001b[0;32m      8\u001b[0m \u001b[38;5;28;01mdef\u001b[39;00m \u001b[38;5;21mextract_performance_metric\u001b[39m(model):\n\u001b[0;32m      9\u001b[0m     \u001b[38;5;66;03m# Assuming the model has an attribute or method to get accuracy or loss\u001b[39;00m\n\u001b[1;32m---> 10\u001b[0m     \u001b[38;5;28;01mreturn\u001b[39;00m model\u001b[38;5;241m.\u001b[39mevaluate()[\u001b[38;5;124m'\u001b[39m\u001b[38;5;124maccuracy\u001b[39m\u001b[38;5;124m'\u001b[39m]\n",
      "\u001b[1;31mAttributeError\u001b[0m: 'WhisperModel' object has no attribute 'evaluate'"
     ]
    }
   ],
   "source": [
    "import numpy as np\n",
    "import pandas as pd\n",
    "from src.models.whisper.model import WhisperModel\n",
    "from src.models.whisper.tuner import tune_hyperparameters\n",
    "from src.config.hyperparameters import Hyperparameters\n",
    "\n",
    "# Custom function to extract performance metric\n",
    "def extract_performance_metric(model):\n",
    "    # Assuming the model has an attribute or method to get accuracy or loss\n",
    "    return model.evaluate()['accuracy']  # Replace 'evaluate' and 'accuracy' as needed\n",
    "\n",
    "# Load the Whisper model with default hyperparameters\n",
    "default_hyperparameters = Hyperparameters()\n",
    "model = WhisperModel(hyperparameters=default_hyperparameters)\n",
    "\n",
    "# Define hyperparameter grid\n",
    "hyperparameter_grid = {\n",
    "    'learning_rate': [1e-5, 5e-5, 1e-4],\n",
    "    'batch_size': [16, 32, 64],\n",
    "    'num_epochs': [3, 5, 10]\n",
    "}\n",
    "\n",
    "# Initialize results storage\n",
    "results = []\n",
    "\n",
    "# Perform hyperparameter tuning\n",
    "for learning_rate in hyperparameter_grid['learning_rate']:\n",
    "    for batch_size in hyperparameter_grid['batch_size']:\n",
    "        for num_epochs in hyperparameter_grid['num_epochs']:\n",
    "            # Tune the model with current hyperparameters\n",
    "            hyperparameters = {\n",
    "                'learning_rate': learning_rate,\n",
    "                'batch_size': batch_size,\n",
    "                'num_epochs': num_epochs\n",
    "            }\n",
    "            result_model = tune_hyperparameters(model, hyperparameters)\n",
    "\n",
    "            # Extract a numeric performance metric from the model\n",
    "            performance_metric = extract_performance_metric(result_model)\n",
    "            results.append({\n",
    "                'learning_rate': learning_rate,\n",
    "                'batch_size': batch_size,\n",
    "                'num_epochs': num_epochs,\n",
    "                'performance': performance_metric\n",
    "            })\n",
    "\n",
    "# Convert results to DataFrame for analysis\n",
    "results_df = pd.DataFrame(results)\n",
    "\n",
    "# Sort results by the numeric performance metric\n",
    "results_df.sort_values(by='performance', ascending=False, inplace=True)\n",
    "results_df.reset_index(drop=True, inplace=True)\n",
    "results_df"
   ]
  },
  {
   "cell_type": "markdown",
   "metadata": {},
   "source": [
    "## Analysis of Results\n",
    "\n",
    "After running the hyperparameter tuning, we can analyze the results to determine which combination of hyperparameters yielded the best performance. This will help in selecting the optimal settings for the Whisper model."
   ]
  }
 ],
 "metadata": {
  "kernelspec": {
   "display_name": "voxlens_stt",
   "language": "python",
   "name": "python3"
  },
  "language_info": {
   "codemirror_mode": {
    "name": "ipython",
    "version": 3
   },
   "file_extension": ".py",
   "mimetype": "text/x-python",
   "name": "python",
   "nbconvert_exporter": "python",
   "pygments_lexer": "ipython3",
   "version": "3.11.11"
  }
 },
 "nbformat": 4,
 "nbformat_minor": 4
}
